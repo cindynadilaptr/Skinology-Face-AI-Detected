{
  "cells": [
    {
      "cell_type": "markdown",
      "source": [
        "Intelegensia Buatan Kelompok 7\n",
        "*   Cindy Nadila Putri 122140002\n",
        "*   Kayla Chika Lathisya 122140009\n",
        "*   Yohanna Anzelika Sitepu 122140010\n",
        "*   Freddy Harahap 122140018\n",
        "*   Faris Pratama 122140021\n",
        "*   Zulfa Puri Anjani 122140023\n",
        "*   Yesa Viola 122140133\n",
        "*   Dwi Arthur Revangga 122140144"
      ],
      "metadata": {
        "id": "PjpXd4XxHA9C"
      }
    },
    {
      "cell_type": "markdown",
      "metadata": {
        "id": "vwS3xQdk-aJp"
      },
      "source": [
        "# Skinology: Identifikasi Jenis Kulit Wajah dengan Implementasi Convolutional Neural Network\n"
      ]
    },
    {
      "cell_type": "markdown",
      "metadata": {
        "id": "m-VBwl8q-gHx"
      },
      "source": [
        "Dataset: https://www.kaggle.com/datasets/shakyadissanayake/oily-dry-and-normal-skin-types-dataset"
      ]
    },
    {
      "cell_type": "markdown",
      "metadata": {
        "id": "yZypCB_-AMoV"
      },
      "source": [
        "### Karakteristik Utama\n",
        "- *Jumlah Gambar*: Lebih dari 1.000 gambar.\n",
        "- *Klasifikasi*: Tiga kategori (berminyak, kering, normal).\n",
        "- *Format Gambar*: Tersedia dalam format JPEG.\n",
        "\n",
        "### Fitur Utama\n",
        "- Gambar berfokus pada wajah dan area kulit.\n",
        "- Label terstruktur untuk klasifikasi yang jelas.\n",
        "\n",
        "### Tantangan Potensial\n",
        "- Variasi pencahayaan dan kualitas gambar.\n",
        "- Keterwakilan yang tidak merata di antara kategori kulit.\n",
        "\n",
        "### Tujuan Analisis\n",
        "- Mengembangkan model klasifikasi untuk identifikasi tipe kulit.\n",
        "- Meningkatkan pemahaman tentang hubungan antara kondisi kulit dan rekomendasi perawatan."
      ]
    },
    {
      "cell_type": "markdown",
      "metadata": {
        "id": "sHcHpj3ENsKr"
      },
      "source": [
        "Memasukkan Dataset dari Google Drive ke Google Colab"
      ]
    },
    {
      "cell_type": "code",
      "execution_count": null,
      "metadata": {
        "colab": {
          "base_uri": "https://localhost:8080/"
        },
        "id": "u_Z06pSG-Vpb",
        "outputId": "234b9d94-50f1-470f-8c9c-db34c75ff580"
      },
      "outputs": [
        {
          "output_type": "stream",
          "name": "stderr",
          "text": [
            "Downloading...\n",
            "From (original): https://drive.google.com/uc?id=1Mh5rNdq8ZPAUYvfl3QT468MOwto6BI9j\n",
            "From (redirected): https://drive.google.com/uc?id=1Mh5rNdq8ZPAUYvfl3QT468MOwto6BI9j&confirm=t&uuid=44aacc0a-8e5a-43bc-913d-98aed8044dbb\n",
            "To: /content/Dataset_Kulit.zip\n",
            "100%|██████████| 130M/130M [00:01<00:00, 73.8MB/s]\n"
          ]
        },
        {
          "output_type": "stream",
          "name": "stdout",
          "text": [
            "All contents moved successfully!\n"
          ]
        }
      ],
      "source": [
        "import gdown\n",
        "import zipfile\n",
        "import os\n",
        "import shutil\n",
        "\n",
        "# Corrected URL for direct download\n",
        "file_id = \"1Mh5rNdq8ZPAUYvfl3QT468MOwto6BI9j\"\n",
        "url = f\"https://drive.google.com/uc?id={file_id}\"\n",
        "output = 'Dataset_Kulit.zip'\n",
        "\n",
        "# Download the file\n",
        "gdown.download(url, output, quiet=False)\n",
        "\n",
        "# Extract the ZIP file if downloaded correctly\n",
        "try:\n",
        "    with zipfile.ZipFile(output, 'r') as zip_ref:\n",
        "        zip_ref.extractall()\n",
        "    os.remove(output)  # Remove the ZIP file after extraction\n",
        "except zipfile.BadZipFile:\n",
        "    print(\"Error: The downloaded file is not a valid ZIP file.\")\n",
        "\n",
        "# Source and destination paths\n",
        "source_dir = '/content/Oily-Dry-Skin-Types'\n",
        "dest_dir = '/content/'\n",
        "\n",
        "# Move files and directories from the source directory to the destination\n",
        "if os.path.exists(source_dir):\n",
        "    for item in os.listdir(source_dir):\n",
        "        source_item = os.path.join(source_dir, item)\n",
        "        dest_item = os.path.join(dest_dir, item)\n",
        "        shutil.move(source_item, dest_item)\n",
        "\n",
        "    print(\"All contents moved successfully!\")\n",
        "else:\n",
        "    print(\"Error: Source directory does not exist.\")\n"
      ]
    },
    {
      "cell_type": "markdown",
      "metadata": {
        "id": "jRf8RKc0PK_G"
      },
      "source": [
        "Import Segala Library"
      ]
    },
    {
      "cell_type": "markdown",
      "metadata": {
        "id": "OY30Tjuss8Rs"
      },
      "source": [
        "Jenis Library:\n",
        "*   Pandas digunakan untuk memproses data dalam bentuk tabel (data frame) yaitu seperti membaca, menulis, dan memodifikasi data dalam berbagai format.\n",
        "*   Numpy berfungsi untuk melakukan perhitungan atau pengoperasian seperti pada matriks, vektor dan array.\n",
        "*   OS digunakan untuk berinteraksi dengan sistem operasi, seperti mengelola file dan folder dan mengakses direktori.\n",
        "*   CV2 atau OpenCV digunakan untuk melakukan pemrosesan gambar/video seperti deteksi objek, pengenalan wajah, manipulasi gambar dan sebagainya.\n",
        "*   Matplotlib.pyplot digunakan untuk memvisualisasikan data dalam bentuk grafik dan plot.\n",
        "\n",
        "\n",
        "\n",
        "\n",
        "\n",
        "\n",
        "\n",
        "\n"
      ]
    },
    {
      "cell_type": "code",
      "execution_count": null,
      "metadata": {
        "id": "bVZ5JjqcAcaS"
      },
      "outputs": [],
      "source": [
        "import pandas as pd\n",
        "import numpy as np\n",
        "import os\n",
        "import cv2\n",
        "import tensorflow as tf\n",
        "from tensorflow.keras.models import Sequential\n",
        "from tensorflow.keras.layers import Conv2D, MaxPooling2D, Flatten, Dense, Dropout\n",
        "from PIL import Image as PILImage\n",
        "from io import BytesIO\n",
        "import ipywidgets as widgets\n",
        "from IPython.display import display, Image\n",
        "import matplotlib.pyplot as plt\n",
        "import gdown\n",
        "\n",
        "from IPython.display import clear_output\n",
        "from tensorflow.keras.preprocessing.image import ImageDataGenerator\n",
        "import os\n",
        "import requests"
      ]
    },
    {
      "cell_type": "markdown",
      "source": [
        "# Data Preprocessing Jenis Kulit Wajah"
      ],
      "metadata": {
        "id": "QrpPs_VpYNHm"
      }
    },
    {
      "cell_type": "markdown",
      "metadata": {
        "id": "7mXKkfcMxGLh"
      },
      "source": [
        "label_index yaitu struktur data dalam Python yang berfungsi untuk menyimpan pasangan kunci nilai, kuncinya yaitu katagori jenis kulit (dry, normal, oily) dengan nilai (0, 1, 2) yang mewakili masing-masing katagori tersebut."
      ]
    },
    {
      "cell_type": "code",
      "execution_count": null,
      "metadata": {
        "id": "G98sGYzsazfG"
      },
      "outputs": [],
      "source": [
        "label_index = {\"dry\": 0, \"normal\": 1, \"oily\": 2}"
      ]
    },
    {
      "cell_type": "markdown",
      "metadata": {
        "id": "gv42xIMBzav_"
      },
      "source": [
        "Karena gambar terdiri dari beberapa pixel, maka pixel akan dibagi sesuai warna agar sistem lebih cepat dalam membacanya. preprocess_image akan menerima dua parameter yaitu img_path sebagai jalur file gambar yang akan diproses dan target_size merupakan ukuran target untuk nilai default (128, 128) yang berarti gambar akan diubah ukurannya menjadi 128x128 px. Lalu gambar akan dibaca dengan menggunakan fungsi cv2.imread dan gambar akan diubah ukurannya menjadi 128x128 px menggunakan fungsi cv2.resize. Selanjutnya, gambar akan diubah menjadi grayscale menggunakan fungsi cv2.cvtColor dengan konverso cv2.COLOR_BGR2GRAY, yang akan membuat gambar berwarna menjadi gambar hitam putih agar nantinya lebih mudah diolah. Lalu gambar dinormalisasi dengan membagi setiap nilai piksel dengan 255.0 sehingga nilainya berada di antara 0 dan 1 yaitu melalui fungsi img / 255.0. Selanjutnya gambar direshape menjadi bentuk vektor dengan fungsi img.reshape."
      ]
    },
    {
      "cell_type": "code",
      "execution_count": null,
      "metadata": {
        "id": "70XSc2HNaOik"
      },
      "outputs": [],
      "source": [
        "def preprocess_image(img_path, target_size=(128, 128)):\n",
        "    # Baca gambar\n",
        "    img = cv2.imread(img_path)\n",
        "    # Ubah ukuran gambar\n",
        "    img = cv2.resize(img, target_size)\n",
        "    # Konversi ke grayscale\n",
        "    img = cv2.cvtColor(img, cv2.COLOR_BGR2GRAY)\n",
        "    # Normalisasi nilai piksel (0-1)\n",
        "    img = img / 255.0\n",
        "    # Reshape gambar menjadi vektor\n",
        "    img = img.reshape(target_size[0], target_size[1], 1)\n",
        "    return img"
      ]
    },
    {
      "cell_type": "markdown",
      "metadata": {
        "id": "odZEMCqd4CtX"
      },
      "source": [
        "create_df menerima dua parameter yaitu base sebagai direktori utama tempat gambar disimpan, yang setiap subfoldernya menjunjukkan label dan katagori (seperti, folder dry, normal, dan oily) dan target_size merupakan ukuran target gambar setelah diubah ukurannya. Fungsi dd yaitu sebuah dictionary untuk menyimpan daftar gambar yang telah diproses (images) dan labelnya (labels). Dictionary tersebut akan dikonversi menjadi data Frame. fungsi for i in os.listdir(base) yaitu untuk mengulangi setiap folder di dalam direktori base. for j in os.listdir(label) yaitu setiap file j yang merupakan gambar, nantinya akan melakukan pengulangan setiap file di dalam folder label. lalu melakukan print preprocessimg gambar dan masuk ke DataFrame (spreadsheet). Selanjutnya label akan ditambhkan menggunakan fungsi  dd [images]. append(img) dd[labels].append(label_index[i])."
      ]
    },
    {
      "cell_type": "code",
      "execution_count": null,
      "metadata": {
        "id": "68aikVM1Qe-f"
      },
      "outputs": [],
      "source": [
        "# Fungsi untuk membuat DataFrame dan melakukan preprocessing gambar\n",
        "def create_df(base, target_size=(128, 128)):\n",
        "    dd = {\"images\": [], \"labels\": []}\n",
        "    for i in os.listdir(base):\n",
        "        label = os.path.join(base, i)\n",
        "        for j in os.listdir(label):\n",
        "            img_path = os.path.join(label, j)\n",
        "            # Preprocessing gambar\n",
        "            img = preprocess_image(img_path, target_size)\n",
        "            # Tambahkan gambar dan label yang sesuai\n",
        "            dd[\"images\"].append(img)\n",
        "            dd[\"labels\"].append(label_index[i])\n",
        "    return pd.DataFrame(dd)\n"
      ]
    },
    {
      "cell_type": "markdown",
      "metadata": {
        "id": "fdYiYv0tQyaw"
      },
      "source": [
        "Membuat pengelompokan dataframe dari dataset yang berupa gambar-gambar. Fungsi train_df yaitu dataset yang disiapkan untuk melatih mesinnya. Fungsi val_df mengecek keakuratan pada mesin hasil latihan tadi, apabila masih ada kesalahan maka bisa diganti dan melakukan print ulang dan divalidasi kembali. Apabila sudah sesuai, maka lanjut pada fungsi test_df yaitu untuk melakukan testing atau mengukur performa akhir pada mesin."
      ]
    },
    {
      "cell_type": "code",
      "execution_count": null,
      "metadata": {
        "id": "uvFrrHdzbCnT"
      },
      "outputs": [],
      "source": [
        "# Membuat DataFrame untuk data train, validation, dan test\n",
        "train_df = create_df(\"/content/train\")\n",
        "val_df = create_df(\"/content/valid\")\n",
        "test_df = create_df(\"/content/test\")"
      ]
    },
    {
      "cell_type": "markdown",
      "metadata": {
        "id": "cYWyeM8K-gH-"
      },
      "source": [
        "# Ketiga fungsi dibawah yaitu untuk melihat berapa banyak jumlah dataset"
      ]
    },
    {
      "cell_type": "markdown",
      "metadata": {
        "id": "AqMG2Uwa-ynn"
      },
      "source": [
        "Dataset train terdapat keterangan bahwa kategori jenis kulit normal ada 1104 gambar, normal ada 1000 gambar, dan oily ada 652 gambar dengan tipe data integer 64 bit."
      ]
    },
    {
      "cell_type": "code",
      "execution_count": null,
      "metadata": {
        "id": "DCXkuzBzRCSD",
        "colab": {
          "base_uri": "https://localhost:8080/",
          "height": 209
        },
        "outputId": "981af550-bb43-4065-8143-11ce54386730"
      },
      "outputs": [
        {
          "output_type": "execute_result",
          "data": {
            "text/plain": [
              "labels\n",
              "1    1104\n",
              "2    1000\n",
              "0     652\n",
              "Name: count, dtype: int64"
            ],
            "text/html": [
              "<div>\n",
              "<style scoped>\n",
              "    .dataframe tbody tr th:only-of-type {\n",
              "        vertical-align: middle;\n",
              "    }\n",
              "\n",
              "    .dataframe tbody tr th {\n",
              "        vertical-align: top;\n",
              "    }\n",
              "\n",
              "    .dataframe thead th {\n",
              "        text-align: right;\n",
              "    }\n",
              "</style>\n",
              "<table border=\"1\" class=\"dataframe\">\n",
              "  <thead>\n",
              "    <tr style=\"text-align: right;\">\n",
              "      <th></th>\n",
              "      <th>count</th>\n",
              "    </tr>\n",
              "    <tr>\n",
              "      <th>labels</th>\n",
              "      <th></th>\n",
              "    </tr>\n",
              "  </thead>\n",
              "  <tbody>\n",
              "    <tr>\n",
              "      <th>1</th>\n",
              "      <td>1104</td>\n",
              "    </tr>\n",
              "    <tr>\n",
              "      <th>2</th>\n",
              "      <td>1000</td>\n",
              "    </tr>\n",
              "    <tr>\n",
              "      <th>0</th>\n",
              "      <td>652</td>\n",
              "    </tr>\n",
              "  </tbody>\n",
              "</table>\n",
              "</div><br><label><b>dtype:</b> int64</label>"
            ]
          },
          "metadata": {},
          "execution_count": 7
        }
      ],
      "source": [
        "train_df['labels'].value_counts()"
      ]
    },
    {
      "cell_type": "markdown",
      "metadata": {
        "id": "a1WcRLUjALYQ"
      },
      "source": [
        "Dataset validasi terdapat keterangan bahwa kategori jenis kulit normal ada 111 gambar, normal ada 80 gambar, dan oily ada 71 gambar dengan tipe data integer 64 bit."
      ]
    },
    {
      "cell_type": "code",
      "execution_count": null,
      "metadata": {
        "id": "jVL558CVUMAd",
        "colab": {
          "base_uri": "https://localhost:8080/",
          "height": 209
        },
        "outputId": "3eeb2c89-fa01-4e65-8f42-d70813b12b1a"
      },
      "outputs": [
        {
          "output_type": "execute_result",
          "data": {
            "text/plain": [
              "labels\n",
              "1    111\n",
              "2     80\n",
              "0     71\n",
              "Name: count, dtype: int64"
            ],
            "text/html": [
              "<div>\n",
              "<style scoped>\n",
              "    .dataframe tbody tr th:only-of-type {\n",
              "        vertical-align: middle;\n",
              "    }\n",
              "\n",
              "    .dataframe tbody tr th {\n",
              "        vertical-align: top;\n",
              "    }\n",
              "\n",
              "    .dataframe thead th {\n",
              "        text-align: right;\n",
              "    }\n",
              "</style>\n",
              "<table border=\"1\" class=\"dataframe\">\n",
              "  <thead>\n",
              "    <tr style=\"text-align: right;\">\n",
              "      <th></th>\n",
              "      <th>count</th>\n",
              "    </tr>\n",
              "    <tr>\n",
              "      <th>labels</th>\n",
              "      <th></th>\n",
              "    </tr>\n",
              "  </thead>\n",
              "  <tbody>\n",
              "    <tr>\n",
              "      <th>1</th>\n",
              "      <td>111</td>\n",
              "    </tr>\n",
              "    <tr>\n",
              "      <th>2</th>\n",
              "      <td>80</td>\n",
              "    </tr>\n",
              "    <tr>\n",
              "      <th>0</th>\n",
              "      <td>71</td>\n",
              "    </tr>\n",
              "  </tbody>\n",
              "</table>\n",
              "</div><br><label><b>dtype:</b> int64</label>"
            ]
          },
          "metadata": {},
          "execution_count": 8
        }
      ],
      "source": [
        "val_df['labels'].value_counts()"
      ]
    },
    {
      "cell_type": "markdown",
      "metadata": {
        "id": "m-9Z3t9bAqzy"
      },
      "source": [
        "Dataset train terdapat keterangan bahwa kategori jenis kulit normal ada 59 gambar, normal ada 40 gambar, dan oily ada 35 gambar dengan tipe data integer 64 bit.\n",
        "\n"
      ]
    },
    {
      "cell_type": "code",
      "execution_count": null,
      "metadata": {
        "id": "tDHMhKs2UOtV",
        "colab": {
          "base_uri": "https://localhost:8080/",
          "height": 209
        },
        "outputId": "216ad13b-a60d-4e01-c9f1-10b2e4fe42f9"
      },
      "outputs": [
        {
          "output_type": "execute_result",
          "data": {
            "text/plain": [
              "labels\n",
              "1    59\n",
              "2    40\n",
              "0    35\n",
              "Name: count, dtype: int64"
            ],
            "text/html": [
              "<div>\n",
              "<style scoped>\n",
              "    .dataframe tbody tr th:only-of-type {\n",
              "        vertical-align: middle;\n",
              "    }\n",
              "\n",
              "    .dataframe tbody tr th {\n",
              "        vertical-align: top;\n",
              "    }\n",
              "\n",
              "    .dataframe thead th {\n",
              "        text-align: right;\n",
              "    }\n",
              "</style>\n",
              "<table border=\"1\" class=\"dataframe\">\n",
              "  <thead>\n",
              "    <tr style=\"text-align: right;\">\n",
              "      <th></th>\n",
              "      <th>count</th>\n",
              "    </tr>\n",
              "    <tr>\n",
              "      <th>labels</th>\n",
              "      <th></th>\n",
              "    </tr>\n",
              "  </thead>\n",
              "  <tbody>\n",
              "    <tr>\n",
              "      <th>1</th>\n",
              "      <td>59</td>\n",
              "    </tr>\n",
              "    <tr>\n",
              "      <th>2</th>\n",
              "      <td>40</td>\n",
              "    </tr>\n",
              "    <tr>\n",
              "      <th>0</th>\n",
              "      <td>35</td>\n",
              "    </tr>\n",
              "  </tbody>\n",
              "</table>\n",
              "</div><br><label><b>dtype:</b> int64</label>"
            ]
          },
          "metadata": {},
          "execution_count": 9
        }
      ],
      "source": [
        "test_df['labels'].value_counts()"
      ]
    },
    {
      "cell_type": "markdown",
      "metadata": {
        "id": "-v6rARkCDxbJ"
      },
      "source": [
        "Untuk membuat visualisasi data ke diagram batang.\n",
        "\n",
        "\n",
        "\n"
      ]
    },
    {
      "cell_type": "code",
      "execution_count": null,
      "metadata": {
        "id": "PcVT3xrTTz05",
        "colab": {
          "base_uri": "https://localhost:8080/",
          "height": 452
        },
        "outputId": "d45309d7-3b9b-40b9-bccb-7632a567496a"
      },
      "outputs": [
        {
          "output_type": "display_data",
          "data": {
            "text/plain": [
              "<Figure size 640x480 with 1 Axes>"
            ],
            "image/png": "[encoded data removed]"
          },
          "metadata": {}
        }
      ],
      "source": [
        "# @title Visualisasi Pembagian Jenis Kulit\n",
        "\n",
        "# Create the histogram\n",
        "train_df['labels'].plot(kind='hist', bins=20, title='Visualisasi Pembagian Jenis Kulit')\n",
        "\n",
        "# Set x-axis labels\n",
        "plt.xticks([0, 1, 2], ['Dry', 'Normal', 'Oily'])\n",
        "\n",
        "# Remove top and right spines for cleaner look\n",
        "plt.gca().spines[['top', 'right']].set_visible(False)\n",
        "\n",
        "# Display the plot\n",
        "plt.show()"
      ]
    },
    {
      "cell_type": "markdown",
      "metadata": {
        "id": "khO5L17eEQw7"
      },
      "source": [
        "untuk membuat visualisasi data ke vektor dan menampilkan 5 teratas."
      ]
    },
    {
      "cell_type": "code",
      "execution_count": null,
      "metadata": {
        "id": "aodq34yoap1-",
        "colab": {
          "base_uri": "https://localhost:8080/"
        },
        "outputId": "3f83faff-ed6d-4739-e3c5-2ac66a46fdef"
      },
      "outputs": [
        {
          "output_type": "stream",
          "name": "stdout",
          "text": [
            "                                              images  labels\n",
            "0  [[[0.0], [0.0], [0.0], [0.0], [0.0], [0.0], [0...       2\n",
            "1  [[[0.0], [0.0], [0.0], [0.0], [0.0], [0.0], [0...       2\n",
            "2  [[[0.0], [0.0], [0.0], [0.0], [0.0], [0.0], [0...       2\n",
            "3  [[[0.0], [0.0], [0.0], [0.01568627450980392], ...       2\n",
            "4  [[[0.0], [0.0], [0.0], [0.0], [0.0], [0.0], [0...       2\n"
          ]
        }
      ],
      "source": [
        "# Contoh untuk melihat DataFrame hasil\n",
        "print(train_df.head())"
      ]
    },
    {
      "cell_type": "markdown",
      "metadata": {
        "id": "I4MlQ8ET76z2"
      },
      "source": [
        "#Data Augmentasi"
      ]
    },
    {
      "cell_type": "markdown",
      "metadata": {
        "id": "Dd42Hkl_9Hju"
      },
      "source": [
        "\n",
        "\n",
        "*   Langkah pertama adalah mengkonfigurasi pengaturan Augmentasi menggunakan **ImageDataGenerator**, menentukan berbagai teknik augmentasi gambar, seperti rotasi, translasi, shear, zoom dan flipping.\n",
        "*   **ImageDataGenerator** dapat memutar gambar secara acak hingga 20 derajat, menggeser gambar secara horizontal hingga 20 % dari lebar gambar, menggeser gambar secara vertikal hingga 20% dari tinggi gambar, Menerapkan distorsi 'shear' hingga 20%, Memperbesar atau memperkecil gambar hingga 20%, Membalik gambar secara horizontal, Mengisi area kosong yang mungkin muncul setelah dilakukan rotasi atau pergeseran dengan warna pixel terdekat.\n",
        "\n"
      ]
    },
    {
      "cell_type": "code",
      "execution_count": null,
      "metadata": {
        "id": "jAFVkwaAATfZ"
      },
      "outputs": [],
      "source": [
        "# Augmentation settings for the CNN model\n",
        "data_gen = ImageDataGenerator(\n",
        "    rotation_range=20,          # Rotasi gambar sampai 20 derajat\n",
        "    width_shift_range=0.2,      # Menggeser gambar secara horizontal hingga 20% dari lebar\n",
        "    height_shift_range=0.2,     # Menggeser gambar secara vertikal hingga 20% dari tinggi gambar\n",
        "    shear_range=0.2,            # Menerapkan distorsi 'shear' hingga 20%,\n",
        "    zoom_range=0.2,             # Memperbesar atau memperkecil gambar hingga 20%\n",
        "    horizontal_flip=True,       # Membalik gambar secara horizontal\n",
        "    fill_mode='nearest'         # Mengisi area kosong yang mungkin muncul setelah dilakukan rotasi atau pergeseran dengan warna pixel terdekat.\n",
        ")"
      ]
    },
    {
      "cell_type": "markdown",
      "metadata": {
        "id": "nyvE_h3ECx9F"
      },
      "source": [
        "Fungsi **augment_images** untuk menghasilkan Augmented Data\n",
        "Setelah **ImageDataGenerator** diatur, fungsi **augment_images** digunakan untuk menerapkan augmentasi pada dataset.\n",
        "\n",
        "\n",
        "*   **Looping Melalui Setiap Gambar**\n",
        "\n",
        "  Fungsi ini iterasi melalui setiap gambar dan label yang ada pada dataset train_df.\n",
        "*   **Expand Dimensions**\n",
        "\n",
        "  Setiap gambar diubah bentuknya (reshape) dengan menambahkan dimensi batch (menggunakan np.expand_dims(img, axis=0)). Ini diperlukan karena ImageDataGenerator mengharapkan gambar dengan dimensi (batch, height, width, channels).\n",
        "\n",
        "\n",
        "*   **Augmentasi Gambar**\n",
        "\n",
        "  Setiap gambar kemudian dimasukkan ke dalam ImageDataGenerator untuk menghasilkan versi augmentasi.\n",
        "  Pada contoh ini, lima versi augmentasi dari setiap gambar dihasilkan. Anda dapat menyesuaikan jumlah augmentasi ini sesuai kebutuhan.\n",
        "\n",
        "\n",
        "*   **Simpan Gambar Augmentasi**\n",
        "\n",
        "  Setiap gambar yang dihasilkan oleh augmentasi kemudian disimpan dalam list augmented_images, dan label yang sesuai disimpan dalam augmented_labels.\n",
        "\n",
        "\n",
        "\n",
        "\n"
      ]
    },
    {
      "cell_type": "markdown",
      "metadata": {
        "id": "o0D0nR1uOx2G"
      },
      "source": [
        "**Menghasilkan Data Augmentasi Akhir**\n",
        "\n",
        "\n",
        "*    Setelah fungsi augment_images dijalankan, augmented_images dan augmented_labels akan berisi data gambar yang sudah di-augmentasi beserta labelnya.\n",
        "\n",
        "*   Data ini kemudian dikonversi menjadi array numpy untuk digunakan dalam model CNN atau untuk digabungkan ke dalam DataFrame baru (augmented_df), yang dapat memudahkan pengolahan data selanjutnya.\n",
        "\n",
        "\n"
      ]
    },
    {
      "cell_type": "code",
      "execution_count": null,
      "metadata": {
        "id": "mlcFhXjYDy3G"
      },
      "outputs": [],
      "source": [
        "# Augment the training images\n",
        "def augment_images(images, labels, data_gen, batch_size=32):\n",
        "    augmented_images, augmented_labels = [], []\n",
        "    for img, label in zip(images, labels):\n",
        "        img = np.expand_dims(img, axis=0)\n",
        "        it = data_gen.flow(img, batch_size=1)\n",
        "        # Generate 5 augmented version of each image\n",
        "        for _ in range(5):\n",
        "            augmented_img = next(it)[0].astype('float32')\n",
        "            augmented_images.append(augmented_img)\n",
        "            augmented_labels.append(label)\n",
        "    return np.array(augmented_images), np.array(augmented_labels)\n"
      ]
    },
    {
      "cell_type": "markdown",
      "metadata": {
        "id": "L6GJzz5ePG3z"
      },
      "source": [
        "**Menggunakan Data Augmentasi untuk Pelatihan Model CNN**\n",
        "\n",
        "\n",
        "*   Hasil augmentasi dapat langsung digunakan untuk melatih model CNN, atau Anda bisa menggabungkannya dengan data asli untuk menambah variasi dataset pelatihan\n",
        "*   Augmentasi ini berguna untuk meningkatkan performa model dengan menambah variasi data dan mengurangi kemungkinan overfitting, karena model akan lebih terbiasa dengan berbagai variasi gambar yang dihasilkan oleh proses augmentasi.\n",
        "\n",
        "\n"
      ]
    },
    {
      "cell_type": "code",
      "source": [
        "augment_images_train, augment_labels_train = augment_images(train_df['images'].values, train_df['labels'].values, data_gen)\n",
        "augment_images_val, augment_labels_val = augment_images(val_df['images'].values, val_df['labels'].values, data_gen)\n",
        "augment_images_test, augment_labels_test = augment_images(test_df['images'].values, test_df['labels'].values, data_gen)"
      ],
      "metadata": {
        "id": "3IGRGQ-8np4Y"
      },
      "execution_count": null,
      "outputs": []
    },
    {
      "cell_type": "markdown",
      "source": [
        "# Model Arsitektur CNN"
      ],
      "metadata": {
        "id": "SnxbdU1UCV47"
      }
    },
    {
      "cell_type": "markdown",
      "source": [
        "Arsitektur Convolutional Neural Network (CNN) untuk klasifikasi multi-kelas dengan fungsi create_cnn_model. Model ini menerima input dengan bentuk gambar (128, 128, 1) (gambar grayscale) dan memiliki tiga kelas keluaran. CNN dibangun secara bertahap menggunakan lapisan-lapisan berikut:\n",
        "\n",
        "1. **Convolutional Layer**: Lapisan ini mengekstraksi fitur-fitur dari gambar\n",
        "menggunakan filter berukuran (3x3) dan fungsi aktivasi ReLU. Model dimulai dengan 32 filter di lapisan pertama, 64 di lapisan kedua, dan 128 di lapisan ketiga, masing-masing diikuti oleh operasi MaxPooling untuk mengurangi dimensi data dan menyoroti fitur utama.\n",
        "\n",
        "2. **Flatten Layer**: Lapisan ini mengubah data yang berbentuk matriks (hasil dari lapisan konvolusi) menjadi vektor 1D agar dapat diproses oleh lapisan fully connected berikutnya.\n",
        "\n",
        "3. **Fully Connected Layer**: Lapisan dense dengan 128 neuron berfungsi untuk mengintegrasikan fitur yang telah diekstraksi. Dropout sebesar 50% diterapkan untuk mencegah overfitting dengan menonaktifkan sebagian neuron secara acak selama pelatihan.\n",
        "\n",
        "4. **Output Layer**: Lapisan terakhir dengan jumlah neuron sesuai jumlah kelas (num_classes=3) menggunakan fungsi aktivasi softmax, yang mengonversi keluaran menjadi probabilitas untuk klasifikasi multi-kelas.\n",
        "\n",
        "Model ini dirancang untuk menganalisis gambar dan menentukan kategori output berdasarkan pola yang dipelajari selama pelatihan."
      ],
      "metadata": {
        "id": "MF-kiBlL_37g"
      }
    },
    {
      "cell_type": "code",
      "source": [
        "# Model Arsitektur\n",
        "import tensorflow as tf\n",
        "from tensorflow.keras.models import Sequential\n",
        "from tensorflow.keras.layers import Conv2D, MaxPooling2D, Flatten, Dense, Dropout\n",
        "\n",
        "# Definisikan arsitektur model CNN\n",
        "def create_cnn_model(input_shape=(128, 128, 1), num_classes=3):\n",
        "    model = Sequential()\n",
        "\n",
        "    # Convolutional Layer 1\n",
        "    model.add(Conv2D(32, (3, 3), activation='relu', input_shape=input_shape))\n",
        "    model.add(MaxPooling2D((2, 2)))\n",
        "\n",
        "    # Convolutional Layer 2\n",
        "    model.add(Conv2D(64, (3, 3), activation='relu'))\n",
        "    model.add(MaxPooling2D((2, 2)))\n",
        "\n",
        "    # Convolutional Layer 3\n",
        "    model.add(Conv2D(128, (3, 3), activation='relu'))\n",
        "    model.add(MaxPooling2D((2, 2)))\n",
        "\n",
        "    # Flatten the layers\n",
        "    model.add(Flatten())\n",
        "\n",
        "    # Fully Connected Layer\n",
        "    model.add(Dense(128, activation='relu'))\n",
        "    model.add(Dropout(0.5))\n",
        "\n",
        "    # Output Layer\n",
        "    model.add(Dense(num_classes, activation='softmax'))  # Softmax for multi-class classification\n",
        "\n",
        "    return model\n"
      ],
      "metadata": {
        "id": "Kq89aFDs_67R"
      },
      "execution_count": null,
      "outputs": []
    },
    {
      "cell_type": "markdown",
      "source": [
        "# Training CNN Model\n"
      ],
      "metadata": {
        "id": "o-v_B0vxCxR0"
      }
    },
    {
      "cell_type": "markdown",
      "source": [
        "Menyiapkan model CNN untuk proses pelatihan. Pertama, parameter input_shape (ukuran input gambar) ditentukan sebagai (128, 128, 1) untuk gambar grayscale berukuran 128x128 piksel, dan num_classes ditetapkan sebagai 3 untuk klasifikasi tiga kelas. Kemudian, model CNN dibuat menggunakan fungsi create_cnn_model dengan parameter tersebut. Setelah itu, model dikompilasi menggunakan optimizer **Adam**, yaitu algoritma optimasi adaptif untuk mempercepat dan menstabilkan pelatihan. Fungsi loss yang digunakan adalah **sparse_categorical_crossentropy**, cocok untuk klasifikasi multi-kelas dengan label berupa integer. Metrik **accuracy** ditambahkan untuk memantau performa model selama pelatihan. Setelah kompilasi ini, model siap untuk dilatih menggunakan data yang sesuai."
      ],
      "metadata": {
        "id": "0JrabYePDogU"
      }
    },
    {
      "cell_type": "code",
      "source": [
        "# Pelatihan model\n",
        "input_shape = (128, 128, 1)\n",
        "num_classes = 3\n",
        "model = create_cnn_model(input_shape, num_classes)\n",
        "model.compile(optimizer='adam', loss='sparse_categorical_crossentropy', metrics=['accuracy'])"
      ],
      "metadata": {
        "id": "NVKkWNv4X1aI"
      },
      "execution_count": null,
      "outputs": []
    },
    {
      "cell_type": "markdown",
      "source": [
        "Melatih model CNN menggunakan data pelatihan (X_train, y_train) dan data validasi (X_val, y_val) yang telah dipersiapkan sebelumnya. Data pelatihan digunakan untuk mengajarkan model mengenali pola, sementara data validasi digunakan untuk mengevaluasi performa model pada setiap epoch. Pelatihan dilakukan dengan fungsi model.fit, yang menjalankan proses selama 10 epoch (iterasi penuh pada data pelatihan) dan memproses data dalam kelompok berukuran 32 gambar setiap batch. Parameter validation_data memungkinkan model untuk diuji secara berkala menggunakan data validasi untuk memantau potensi overfitting. Hasil pelatihan dicatat dalam variabel history, yang menyimpan informasi seperti loss dan akurasi untuk data pelatihan dan validasi pada setiap epoch, sehingga dapat digunakan untuk analisis performa model."
      ],
      "metadata": {
        "id": "NAttYYXWGYWC"
      }
    },
    {
      "cell_type": "code",
      "source": [
        "# Training AI\n",
        "X_train = augment_images_train\n",
        "y_train = augment_labels_train\n",
        "\n",
        "X_val = augment_images_val\n",
        "y_val = augment_labels_val\n",
        "\n",
        "history = model.fit(\n",
        "    X_train, y_train,\n",
        "    epochs=1 , #harusnya 10\n",
        "    batch_size=32,\n",
        "    validation_data=(X_val, y_val)\n",
        ")"
      ],
      "metadata": {
        "colab": {
          "base_uri": "https://localhost:8080/"
        },
        "id": "OFMF9RV-nbYH",
        "outputId": "b594c745-39ba-4d18-e026-017da8816564"
      },
      "execution_count": null,
      "outputs": [
        {
          "output_type": "stream",
          "name": "stdout",
          "text": [
            "431/431 [==============================] - 316s 733ms/step - loss: 1.0786 - accuracy: 0.3913 - val_loss: 1.0837 - val_accuracy: 0.4237\n"
          ]
        }
      ]
    },
    {
      "cell_type": "markdown",
      "source": [
        "# Evaluasi CNN Model"
      ],
      "metadata": {
        "id": "WHl5qooqa7_8"
      }
    },
    {
      "cell_type": "markdown",
      "source": [
        "Evaluasi performa model yang telah dilatih pada data validasi (X_val, y_val). Fungsi model.evaluate menghitung nilai loss (val_loss) dan akurasi (val_accuracy) model terhadap data validasi, menjelaskan seberapa baik model dapat menggeneralisasi data yang tidak terlihat sebelumnya. Setelah evaluasi selesai, hasil akurasi ditampilkan menggunakan print dalam format desimal dengan dua angka di belakang koma ({val_accuracy:.2f}). Akurasi validasi menunjukkan persentase prediksi model yang benar pada data validasi, yang menjadi indikator utama kualitas model pada tahap generalisasi."
      ],
      "metadata": {
        "id": "0vPB6cbGHYUC"
      }
    },
    {
      "cell_type": "code",
      "source": [
        "val_loss, val_accuracy = model.evaluate(X_val, y_val)\n",
        "print(f\"Validation Accuracy: {val_accuracy:.2f}\")"
      ],
      "metadata": {
        "id": "fT3nqupOncf0",
        "colab": {
          "base_uri": "https://localhost:8080/"
        },
        "outputId": "19a544ef-c60f-4a8b-c892-b6675bcac0ff"
      },
      "execution_count": null,
      "outputs": [
        {
          "output_type": "stream",
          "name": "stdout",
          "text": [
            "41/41 [==============================] - 8s 192ms/step - loss: 1.0837 - accuracy: 0.4237\n",
            "Validation Accuracy: 0.42\n"
          ]
        }
      ]
    },
    {
      "cell_type": "code",
      "source": [
        "plt.plot(history.history['accuracy'], label='Training Accuracy')\n",
        "plt.plot(history.history['val_accuracy'], label='Validation Accuracy')\n",
        "plt.xlabel('Epochs')\n",
        "plt.ylabel('Accuracy')\n",
        "plt.legend()\n",
        "plt.title('Training and Validation Accuracy')\n",
        "plt.show()"
      ],
      "metadata": {
        "id": "gLAqLSj2ndQR",
        "colab": {
          "base_uri": "https://localhost:8080/",
          "height": 472
        },
        "outputId": "5495619e-7ede-4d66-ad31-de4017a517f3"
      },
      "execution_count": null,
      "outputs": [
        {
          "output_type": "display_data",
          "data": {
            "text/plain": [
              "<Figure size 640x480 with 1 Axes>"
            ],
            "image/png": "[encoded data removed]"
          },
          "metadata": {}
        }
      ]
    },
    {
      "cell_type": "markdown",
      "source": [
        "Menyimpan bobot model yang telah dilatih ke file model_weights.weights.h menggunakan model.save_weights(). Ini memungkinkan penggunaan ulang model tanpa perlu melatih ulang, dan pesan konfirmasi ditampilkan setelah penyimpanan berhasil."
      ],
      "metadata": {
        "id": "veg8ec9gEZn7"
      }
    },
    {
      "cell_type": "code",
      "source": [
        "# Simpan model\n",
        "model.save_weights(\"model_weights.weights.h5\")\n",
        "print(\"Model telah dilatih dan disimpan sebagai 'model_weights.weights.h5'.\")"
      ],
      "metadata": {
        "id": "kupYHO4HYByM",
        "colab": {
          "base_uri": "https://localhost:8080/"
        },
        "outputId": "f7faa0df-144f-4517-95b5-7636c8e416a6"
      },
      "execution_count": null,
      "outputs": [
        {
          "output_type": "stream",
          "name": "stdout",
          "text": [
            "Model telah dilatih dan disimpan sebagai 'model_weights.weights.h5'.\n"
          ]
        }
      ]
    },
    {
      "cell_type": "markdown",
      "source": [
        "Bobot model yang telah disimpan sebelumnya dari file \"model_weights.weights.h5\" dimuat menggunakan metode model.load_weights. Dengan memuat bobot ini, model akan mengembalikan semua parameter (weights dan biases) ke kondisi yang sama seperti saat terakhir kali disimpan, sehingga dapat digunakan langsung untuk evaluasi atau prediksi tanpa perlu pelatihan ulang. Setelah proses pemuatan selesai, pesan konfirmasi ditampilkan melalui fungsi print, memastikan bahwa bobot model berhasil diimpor dari file yang ditentukan. Hal ini berguna untuk melanjutkan pekerjaan pada model di sesi berbeda atau perangkat lain."
      ],
      "metadata": {
        "id": "WWhvdjJELy3z"
      }
    },
    {
      "cell_type": "code",
      "source": [
        "model.load_weights(\"model_weights.weights.h5\")\n",
        "print(\"Model berhasil dimuat dari 'model_weights.weights.h5'.\")"
      ],
      "metadata": {
        "id": "go0eKRMWYa51",
        "colab": {
          "base_uri": "https://localhost:8080/"
        },
        "outputId": "1725c8b4-aa91-4a9a-f1dc-d304f5a6a1c7"
      },
      "execution_count": null,
      "outputs": [
        {
          "output_type": "stream",
          "name": "stdout",
          "text": [
            "Model berhasil dimuat dari 'model_weights.weights.h5'.\n"
          ]
        }
      ]
    },
    {
      "cell_type": "markdown",
      "source": [
        "# Import Dataset Rekomendasi Skincare"
      ],
      "metadata": {
        "id": "qbcZU_TMMyif"
      }
    },
    {
      "cell_type": "markdown",
      "source": [
        "Mengunduh dan memuat dataset dari Google Drive ke dalam program. Variabel dataset_url berisi URL yang mengarah ke file di Google Drive. URL ini telah dimodifikasi untuk langsung mengunduh file menggunakan gdown. Kemudian, fungsi gdown.download digunakan untuk mengunduh file CSV dari URL tersebut dan disimpan ke dalam path lokal yang ditentukan oleh variabel dataset_path, yaitu \"Dataset_Skincare_Lokal.csv\". Setelah file berhasil diunduh, kode selanjutnya menggunakan pandas (pd.read_csv) untuk membaca file CSV dan menyimpannya dalam DataFrame bernama skincare_df, yang memungkinkan untuk memproses dan menganalisis data lebih lanjut."
      ],
      "metadata": {
        "id": "KaKmzOs2NDyq"
      }
    },
    {
      "cell_type": "code",
      "source": [
        "dataset_url = \"https://drive.google.com/uc?id=17-zjHbt0GlCH5WZI-T4FJnMi8IF368qJ\"\n",
        "dataset_path = \"Dataset_Skincare_Lokal.csv\"\n",
        "gdown.download(dataset_url, dataset_path, quiet=False)\n",
        "skincare_df = pd.read_csv(dataset_path)"
      ],
      "metadata": {
        "id": "LiBvRgjEAZwI",
        "colab": {
          "base_uri": "https://localhost:8080/"
        },
        "outputId": "0dc40cb9-595d-4244-d845-a845a372d5f2"
      },
      "execution_count": null,
      "outputs": [
        {
          "output_type": "stream",
          "name": "stderr",
          "text": [
            "Downloading...\n",
            "From: https://drive.google.com/uc?id=17-zjHbt0GlCH5WZI-T4FJnMi8IF368qJ\n",
            "To: /content/Dataset_Skincare_Lokal.csv\n",
            "100%|██████████| 3.72k/3.72k [00:00<00:00, 13.5MB/s]\n"
          ]
        }
      ]
    },
    {
      "cell_type": "markdown",
      "source": [
        "Membaca file CSV yang berada di path '/content/Dataset_Skincare_Lokal.csv' dan memuatnya ke dalam **DataFrame** pandas yang disimpan dalam variabel skincare_df. Kode ini memungkinkan untuk analisis dan manipulasi data lebih lanjut."
      ],
      "metadata": {
        "id": "zdAKnQWLRITw"
      }
    },
    {
      "cell_type": "code",
      "source": [
        "skincare_df = pd.read_csv('/content/Dataset_Skincare_Lokal.csv')"
      ],
      "metadata": {
        "id": "-gIvgGDSCA6l"
      },
      "execution_count": null,
      "outputs": []
    },
    {
      "cell_type": "markdown",
      "source": [
        "Menampilkan informasi ringkas tentang DataFrame skincare_df, seperti jumlah baris, kolom, tipe data masing-masing kolom, dan jumlah nilai non-null di setiap kolom."
      ],
      "metadata": {
        "id": "KTXOaOdgTHhQ"
      }
    },
    {
      "cell_type": "code",
      "source": [
        "skincare_df.info()"
      ],
      "metadata": {
        "id": "B_y7dAQYYy2-",
        "colab": {
          "base_uri": "https://localhost:8080/"
        },
        "outputId": "c15492fa-3441-4b8d-9a1a-79a5a2c4a921"
      },
      "execution_count": null,
      "outputs": [
        {
          "output_type": "stream",
          "name": "stdout",
          "text": [
            "<class 'pandas.core.frame.DataFrame'>\n",
            "RangeIndex: 9 entries, 0 to 8\n",
            "Data columns (total 7 columns):\n",
            " #   Column              Non-Null Count  Dtype \n",
            "---  ------              --------------  ----- \n",
            " 0   jenis_kulit         9 non-null      object\n",
            " 1   face_wash           9 non-null      object\n",
            " 2   gambar_face_wash    9 non-null      object\n",
            " 3   moisturizer         9 non-null      object\n",
            " 4   gambar_moisturizer  9 non-null      object\n",
            " 5   sunscreen           9 non-null      object\n",
            " 6   gambar_sunscreen    9 non-null      object\n",
            "dtypes: object(7)\n",
            "memory usage: 632.0+ bytes\n"
          ]
        }
      ]
    },
    {
      "cell_type": "markdown",
      "source": [
        "Menampilkan lima baris pertama dari DataFrame skincare_df, memberikan gambaran umum tentang isi dataset, termasuk nama kolom dan beberapa data awal."
      ],
      "metadata": {
        "id": "x9Gq0soFTWz8"
      }
    },
    {
      "cell_type": "code",
      "source": [
        "skincare_df.head()"
      ],
      "metadata": {
        "id": "UdxG8rtvY11q",
        "colab": {
          "base_uri": "https://localhost:8080/",
          "height": 590
        },
        "outputId": "415f1aaf-fca9-4908-90ed-5c9ea00f4bc1"
      },
      "execution_count": null,
      "outputs": [
        {
          "output_type": "execute_result",
          "data": {
            "text/plain": [
              "  jenis_kulit                                          face_wash  \\\n",
              "0         dry  1. Wardah Nature Daily Aloe Hydramild Facial W...   \n",
              "1         dry            2. Venus White Beauty Aqua Facial Wash    \n",
              "2         dry         3. Somethinc Low pH Gentle Jelly Cleanser    \n",
              "3      normal                   1. Emina Double Bubble Face Wash   \n",
              "4      normal                   2. Wardah Lightening Gentle Wash   \n",
              "\n",
              "                                    gambar_face_wash  \\\n",
              "0  https://drive.google.com/file/d/13n-eLiu9Ql6w_...   \n",
              "1  https://drive.google.com/file/d/1h6JYlUjIdn_q7...   \n",
              "2  https://drive.google.com/file/d/1661VEVoDlSQZP...   \n",
              "3  https://drive.google.com/file/d/1qq054PQ3qmhWV...   \n",
              "4  https://drive.google.com/file/d/1kK9Ni_P95HWCN...   \n",
              "\n",
              "                                         moisturizer  \\\n",
              "0  1. Somethinc Supple Power Hyaluronic9+Onsen Mo...   \n",
              "1           2. Studio Tropik Rich Skin Barrier Cream   \n",
              "2    3. ElsheSkin Deep Hydration Calming Moisturizer   \n",
              "3      1. Y.O.U Radiance Up! Deep Moisturizing Cream   \n",
              "4            2. Wardah Hydra Rose Dewy Aqua Day Gel    \n",
              "\n",
              "                                  gambar_moisturizer  \\\n",
              "0  https://drive.google.com/file/d/1MFAe5b0Lvu9FC...   \n",
              "1  https://drive.google.com/file/d/1VNyS1V1fw6Jm6...   \n",
              "2  https://drive.google.com/file/d/1EGalce2W1Xsri...   \n",
              "3  https://drive.google.com/file/d/1zpEVGcKwdajEe...   \n",
              "4  https://drive.google.com/file/d/1k9j4GxaSI7zjV...   \n",
              "\n",
              "                                           sunscreen  \\\n",
              "0           1. Lacoco Daily UV Counter SPF 50 PA++++   \n",
              "1  2. Avoskin The Great Shield Sunscreen SPF 50 P...   \n",
              "2  3. Azarine Hydrasoothe Sunscreen Gel SPF 45 PA...   \n",
              "3  1. Azarine Hydrasoothe Sunscreen Gel SPF 45 PA...   \n",
              "4          2. Avoskin The Great Shield SPF 50 PA++++   \n",
              "\n",
              "                                    gambar_sunscreen  \n",
              "0  https://drive.google.com/file/d/15eIUrE_HcTksZ...  \n",
              "1  https://drive.google.com/file/d/1Ur-X3o2dFuDzj...  \n",
              "2  https://drive.google.com/file/d/1m8jqEXLcA7k-s...  \n",
              "3  https://drive.google.com/file/d/1ofzQGwvNoZuFp...  \n",
              "4  https://drive.google.com/file/d/1rN-kCatCk4FS0...  "
            ],
            "text/html": [
              "\n",
              "  <div id=\"df-a89f6ed4-3276-4c0b-b410-efa28507f25d\" class=\"colab-df-container\">\n",
              "    <div>\n",
              "<style scoped>\n",
              "    .dataframe tbody tr th:only-of-type {\n",
              "        vertical-align: middle;\n",
              "    }\n",
              "\n",
              "    .dataframe tbody tr th {\n",
              "        vertical-align: top;\n",
              "    }\n",
              "\n",
              "    .dataframe thead th {\n",
              "        text-align: right;\n",
              "    }\n",
              "</style>\n",
              "<table border=\"1\" class=\"dataframe\">\n",
              "  <thead>\n",
              "    <tr style=\"text-align: right;\">\n",
              "      <th></th>\n",
              "      <th>jenis_kulit</th>\n",
              "      <th>face_wash</th>\n",
              "      <th>gambar_face_wash</th>\n",
              "      <th>moisturizer</th>\n",
              "      <th>gambar_moisturizer</th>\n",
              "      <th>sunscreen</th>\n",
              "      <th>gambar_sunscreen</th>\n",
              "    </tr>\n",
              "  </thead>\n",
              "  <tbody>\n",
              "    <tr>\n",
              "      <th>0</th>\n",
              "      <td>dry</td>\n",
              "      <td>1. Wardah Nature Daily Aloe Hydramild Facial W...</td>\n",
              "      <td>https://drive.google.com/file/d/13n-eLiu9Ql6w_...</td>\n",
              "      <td>1. Somethinc Supple Power Hyaluronic9+Onsen Mo...</td>\n",
              "      <td>https://drive.google.com/file/d/1MFAe5b0Lvu9FC...</td>\n",
              "      <td>1. Lacoco Daily UV Counter SPF 50 PA++++</td>\n",
              "      <td>https://drive.google.com/file/d/15eIUrE_HcTksZ...</td>\n",
              "    </tr>\n",
              "    <tr>\n",
              "      <th>1</th>\n",
              "      <td>dry</td>\n",
              "      <td>2. Venus White Beauty Aqua Facial Wash</td>\n",
              "      <td>https://drive.google.com/file/d/1h6JYlUjIdn_q7...</td>\n",
              "      <td>2. Studio Tropik Rich Skin Barrier Cream</td>\n",
              "      <td>https://drive.google.com/file/d/1VNyS1V1fw6Jm6...</td>\n",
              "      <td>2. Avoskin The Great Shield Sunscreen SPF 50 P...</td>\n",
              "      <td>https://drive.google.com/file/d/1Ur-X3o2dFuDzj...</td>\n",
              "    </tr>\n",
              "    <tr>\n",
              "      <th>2</th>\n",
              "      <td>dry</td>\n",
              "      <td>3. Somethinc Low pH Gentle Jelly Cleanser</td>\n",
              "      <td>https://drive.google.com/file/d/1661VEVoDlSQZP...</td>\n",
              "      <td>3. ElsheSkin Deep Hydration Calming Moisturizer</td>\n",
              "      <td>https://drive.google.com/file/d/1EGalce2W1Xsri...</td>\n",
              "      <td>3. Azarine Hydrasoothe Sunscreen Gel SPF 45 PA...</td>\n",
              "      <td>https://drive.google.com/file/d/1m8jqEXLcA7k-s...</td>\n",
              "    </tr>\n",
              "    <tr>\n",
              "      <th>3</th>\n",
              "      <td>normal</td>\n",
              "      <td>1. Emina Double Bubble Face Wash</td>\n",
              "      <td>https://drive.google.com/file/d/1qq054PQ3qmhWV...</td>\n",
              "      <td>1. Y.O.U Radiance Up! Deep Moisturizing Cream</td>\n",
              "      <td>https://drive.google.com/file/d/1zpEVGcKwdajEe...</td>\n",
              "      <td>1. Azarine Hydrasoothe Sunscreen Gel SPF 45 PA...</td>\n",
              "      <td>https://drive.google.com/file/d/1ofzQGwvNoZuFp...</td>\n",
              "    </tr>\n",
              "    <tr>\n",
              "      <th>4</th>\n",
              "      <td>normal</td>\n",
              "      <td>2. Wardah Lightening Gentle Wash</td>\n",
              "      <td>https://drive.google.com/file/d/1kK9Ni_P95HWCN...</td>\n",
              "      <td>2. Wardah Hydra Rose Dewy Aqua Day Gel</td>\n",
              "      <td>https://drive.google.com/file/d/1k9j4GxaSI7zjV...</td>\n",
              "      <td>2. Avoskin The Great Shield SPF 50 PA++++</td>\n",
              "      <td>https://drive.google.com/file/d/1rN-kCatCk4FS0...</td>\n",
              "    </tr>\n",
              "  </tbody>\n",
              "</table>\n",
              "</div>\n",
              "    <div class=\"colab-df-buttons\">\n",
              "\n",
              "  <div class=\"colab-df-container\">\n",
              "    <button class=\"colab-df-convert\" onclick=\"convertToInteractive('df-a89f6ed4-3276-4c0b-b410-efa28507f25d')\"\n",
              "            title=\"Convert this dataframe to an interactive table.\"\n",
              "            style=\"display:none;\">\n",
              "\n",
              "  <svg xmlns=\"http://www.w3.org/2000/svg\" height=\"24px\" viewBox=\"0 -960 960 960\">\n",
              "    <path d=\"M120-120v-720h720v720H120Zm60-500h600v-160H180v160Zm220 220h160v-160H400v160Zm0 220h160v-160H400v160ZM180-400h160v-160H180v160Zm440 0h160v-160H620v160ZM180-180h160v-160H180v160Zm440 0h160v-160H620v160Z\"/>\n",
              "  </svg>\n",
              "    </button>\n",
              "\n",
              "  <style>\n",
              "    .colab-df-container {\n",
              "      display:flex;\n",
              "      gap: 12px;\n",
              "    }\n",
              "\n",
              "    .colab-df-convert {\n",
              "      background-color: #E8F0FE;\n",
              "      border: none;\n",
              "      border-radius: 50%;\n",
              "      cursor: pointer;\n",
              "      display: none;\n",
              "      fill: #1967D2;\n",
              "      height: 32px;\n",
              "      padding: 0 0 0 0;\n",
              "      width: 32px;\n",
              "    }\n",
              "\n",
              "    .colab-df-convert:hover {\n",
              "      background-color: #E2EBFA;\n",
              "      box-shadow: 0px 1px 2px rgba(60, 64, 67, 0.3), 0px 1px 3px 1px rgba(60, 64, 67, 0.15);\n",
              "      fill: #174EA6;\n",
              "    }\n",
              "\n",
              "    .colab-df-buttons div {\n",
              "      margin-bottom: 4px;\n",
              "    }\n",
              "\n",
              "    [theme=dark] .colab-df-convert {\n",
              "      background-color: #3B4455;\n",
              "      fill: #D2E3FC;\n",
              "    }\n",
              "\n",
              "    [theme=dark] .colab-df-convert:hover {\n",
              "      background-color: #434B5C;\n",
              "      box-shadow: 0px 1px 3px 1px rgba(0, 0, 0, 0.15);\n",
              "      filter: drop-shadow(0px 1px 2px rgba(0, 0, 0, 0.3));\n",
              "      fill: #FFFFFF;\n",
              "    }\n",
              "  </style>\n",
              "\n",
              "    <script>\n",
              "      const buttonEl =\n",
              "        document.querySelector('#df-a89f6ed4-3276-4c0b-b410-efa28507f25d button.colab-df-convert');\n",
              "      buttonEl.style.display =\n",
              "        google.colab.kernel.accessAllowed ? 'block' : 'none';\n",
              "\n",
              "      async function convertToInteractive(key) {\n",
              "        const element = document.querySelector('#df-a89f6ed4-3276-4c0b-b410-efa28507f25d');\n",
              "        const dataTable =\n",
              "          await google.colab.kernel.invokeFunction('convertToInteractive',\n",
              "                                                    [key], {});\n",
              "        if (!dataTable) return;\n",
              "\n",
              "        const docLinkHtml = 'Like what you see? Visit the ' +\n",
              "          '<a target=\"_blank\" href=https://colab.research.google.com/notebooks/data_table.ipynb>data table notebook</a>'\n",
              "          + ' to learn more about interactive tables.';\n",
              "        element.innerHTML = '';\n",
              "        dataTable['output_type'] = 'display_data';\n",
              "        await google.colab.output.renderOutput(dataTable, element);\n",
              "        const docLink = document.createElement('div');\n",
              "        docLink.innerHTML = docLinkHtml;\n",
              "        element.appendChild(docLink);\n",
              "      }\n",
              "    </script>\n",
              "  </div>\n",
              "\n",
              "\n",
              "<div id=\"df-6af2fd6a-832b-4643-8e3c-802f38376671\">\n",
              "  <button class=\"colab-df-quickchart\" onclick=\"quickchart('df-6af2fd6a-832b-4643-8e3c-802f38376671')\"\n",
              "            title=\"Suggest charts\"\n",
              "            style=\"display:none;\">\n",
              "\n",
              "<svg xmlns=\"http://www.w3.org/2000/svg\" height=\"24px\"viewBox=\"0 0 24 24\"\n",
              "     width=\"24px\">\n",
              "    <g>\n",
              "        <path d=\"M19 3H5c-1.1 0-2 .9-2 2v14c0 1.1.9 2 2 2h14c1.1 0 2-.9 2-2V5c0-1.1-.9-2-2-2zM9 17H7v-7h2v7zm4 0h-2V7h2v10zm4 0h-2v-4h2v4z\"/>\n",
              "    </g>\n",
              "</svg>\n",
              "  </button>\n",
              "\n",
              "<style>\n",
              "  .colab-df-quickchart {\n",
              "      --bg-color: #E8F0FE;\n",
              "      --fill-color: #1967D2;\n",
              "      --hover-bg-color: #E2EBFA;\n",
              "      --hover-fill-color: #174EA6;\n",
              "      --disabled-fill-color: #AAA;\n",
              "      --disabled-bg-color: #DDD;\n",
              "  }\n",
              "\n",
              "  [theme=dark] .colab-df-quickchart {\n",
              "      --bg-color: #3B4455;\n",
              "      --fill-color: #D2E3FC;\n",
              "      --hover-bg-color: #434B5C;\n",
              "      --hover-fill-color: #FFFFFF;\n",
              "      --disabled-bg-color: #3B4455;\n",
              "      --disabled-fill-color: #666;\n",
              "  }\n",
              "\n",
              "  .colab-df-quickchart {\n",
              "    background-color: var(--bg-color);\n",
              "    border: none;\n",
              "    border-radius: 50%;\n",
              "    cursor: pointer;\n",
              "    display: none;\n",
              "    fill: var(--fill-color);\n",
              "    height: 32px;\n",
              "    padding: 0;\n",
              "    width: 32px;\n",
              "  }\n",
              "\n",
              "  .colab-df-quickchart:hover {\n",
              "    background-color: var(--hover-bg-color);\n",
              "    box-shadow: 0 1px 2px rgba(60, 64, 67, 0.3), 0 1px 3px 1px rgba(60, 64, 67, 0.15);\n",
              "    fill: var(--button-hover-fill-color);\n",
              "  }\n",
              "\n",
              "  .colab-df-quickchart-complete:disabled,\n",
              "  .colab-df-quickchart-complete:disabled:hover {\n",
              "    background-color: var(--disabled-bg-color);\n",
              "    fill: var(--disabled-fill-color);\n",
              "    box-shadow: none;\n",
              "  }\n",
              "\n",
              "  .colab-df-spinner {\n",
              "    border: 2px solid var(--fill-color);\n",
              "    border-color: transparent;\n",
              "    border-bottom-color: var(--fill-color);\n",
              "    animation:\n",
              "      spin 1s steps(1) infinite;\n",
              "  }\n",
              "\n",
              "  @keyframes spin {\n",
              "    0% {\n",
              "      border-color: transparent;\n",
              "      border-bottom-color: var(--fill-color);\n",
              "      border-left-color: var(--fill-color);\n",
              "    }\n",
              "    20% {\n",
              "      border-color: transparent;\n",
              "      border-left-color: var(--fill-color);\n",
              "      border-top-color: var(--fill-color);\n",
              "    }\n",
              "    30% {\n",
              "      border-color: transparent;\n",
              "      border-left-color: var(--fill-color);\n",
              "      border-top-color: var(--fill-color);\n",
              "      border-right-color: var(--fill-color);\n",
              "    }\n",
              "    40% {\n",
              "      border-color: transparent;\n",
              "      border-right-color: var(--fill-color);\n",
              "      border-top-color: var(--fill-color);\n",
              "    }\n",
              "    60% {\n",
              "      border-color: transparent;\n",
              "      border-right-color: var(--fill-color);\n",
              "    }\n",
              "    80% {\n",
              "      border-color: transparent;\n",
              "      border-right-color: var(--fill-color);\n",
              "      border-bottom-color: var(--fill-color);\n",
              "    }\n",
              "    90% {\n",
              "      border-color: transparent;\n",
              "      border-bottom-color: var(--fill-color);\n",
              "    }\n",
              "  }\n",
              "</style>\n",
              "\n",
              "  <script>\n",
              "    async function quickchart(key) {\n",
              "      const quickchartButtonEl =\n",
              "        document.querySelector('#' + key + ' button');\n",
              "      quickchartButtonEl.disabled = true;  // To prevent multiple clicks.\n",
              "      quickchartButtonEl.classList.add('colab-df-spinner');\n",
              "      try {\n",
              "        const charts = await google.colab.kernel.invokeFunction(\n",
              "            'suggestCharts', [key], {});\n",
              "      } catch (error) {\n",
              "        console.error('Error during call to suggestCharts:', error);\n",
              "      }\n",
              "      quickchartButtonEl.classList.remove('colab-df-spinner');\n",
              "      quickchartButtonEl.classList.add('colab-df-quickchart-complete');\n",
              "    }\n",
              "    (() => {\n",
              "      let quickchartButtonEl =\n",
              "        document.querySelector('#df-6af2fd6a-832b-4643-8e3c-802f38376671 button');\n",
              "      quickchartButtonEl.style.display =\n",
              "        google.colab.kernel.accessAllowed ? 'block' : 'none';\n",
              "    })();\n",
              "  </script>\n",
              "</div>\n",
              "\n",
              "    </div>\n",
              "  </div>\n"
            ],
            "application/vnd.google.colaboratory.intrinsic+json": {
              "type": "dataframe",
              "variable_name": "skincare_df",
              "summary": "{\n  \"name\": \"skincare_df\",\n  \"rows\": 9,\n  \"fields\": [\n    {\n      \"column\": \"jenis_kulit\",\n      \"properties\": {\n        \"dtype\": \"category\",\n        \"num_unique_values\": 3,\n        \"samples\": [\n          \"dry\",\n          \"normal\",\n          \"oily\"\n        ],\n        \"semantic_type\": \"\",\n        \"description\": \"\"\n      }\n    },\n    {\n      \"column\": \"face_wash\",\n      \"properties\": {\n        \"dtype\": \"string\",\n        \"num_unique_values\": 9,\n        \"samples\": [\n          \"2. Wardah Seaweed Balancing Facial Wash\",\n          \"2. Venus White Beauty Aqua Facial Wash \",\n          \"3. Sensatia Botanicals Tea Tree & Lemon Facial Cleanser\"\n        ],\n        \"semantic_type\": \"\",\n        \"description\": \"\"\n      }\n    },\n    {\n      \"column\": \"gambar_face_wash\",\n      \"properties\": {\n        \"dtype\": \"string\",\n        \"num_unique_values\": 9,\n        \"samples\": [\n          \"https://drive.google.com/file/d/1KaNkU2jbLDFqe42GLNZE5ZQl2t6xOMGA/view?usp=drive_link\",\n          \"https://drive.google.com/file/d/1h6JYlUjIdn_q7w9ILf2oa6fxVCMi4BYn/view?usp=drive_link\",\n          \"https://drive.google.com/file/d/1Jp9HPBQvCOnlh5iXqnPFj9_Ha0RJXI1R/view?usp=drive_link\"\n        ],\n        \"semantic_type\": \"\",\n        \"description\": \"\"\n      }\n    },\n    {\n      \"column\": \"moisturizer\",\n      \"properties\": {\n        \"dtype\": \"string\",\n        \"num_unique_values\": 9,\n        \"samples\": [\n          \"2. Emina Ms. Pimple Acne Solution Moisturizing Gel\",\n          \"2. Studio Tropik Rich Skin Barrier Cream\",\n          \"3. Somethinc Ceramic Skin Saviour \"\n        ],\n        \"semantic_type\": \"\",\n        \"description\": \"\"\n      }\n    },\n    {\n      \"column\": \"gambar_moisturizer\",\n      \"properties\": {\n        \"dtype\": \"string\",\n        \"num_unique_values\": 9,\n        \"samples\": [\n          \"https://drive.google.com/file/d/1G1qUIm3K8DaJuWpeD67j8uTOq18Nn0nA/view?usp=drive_link\",\n          \"https://drive.google.com/file/d/1VNyS1V1fw6Jm6m4gS59WIhI2IWtVVT4Y/view?usp=drive_link\",\n          \"https://drive.google.com/file/d/1XaK6Wyb-ZG-QzNrFLh97v8IpBHZwJIze/view?usp=drive_link\"\n        ],\n        \"semantic_type\": \"\",\n        \"description\": \"\"\n      }\n    },\n    {\n      \"column\": \"sunscreen\",\n      \"properties\": {\n        \"dtype\": \"string\",\n        \"num_unique_values\": 9,\n        \"samples\": [\n          \"2. Emina Sun Protection SPF 30 PA++\",\n          \"2. Avoskin The Great Shield Sunscreen SPF 50 PA++++\",\n          \"3. Y.O.U Triple UV Elixir SPF 50+ PA++++\"\n        ],\n        \"semantic_type\": \"\",\n        \"description\": \"\"\n      }\n    },\n    {\n      \"column\": \"gambar_sunscreen\",\n      \"properties\": {\n        \"dtype\": \"string\",\n        \"num_unique_values\": 9,\n        \"samples\": [\n          \"https://drive.google.com/file/d/1EvlClRS7yk8vFhTeDEH6OFOh2E1cu1zv/view?usp=drive_link\",\n          \"https://drive.google.com/file/d/1Ur-X3o2dFuDzjQ4CJO2a0rjAyqZFEyWL/view?usp=drive_link\",\n          \"https://drive.google.com/file/d/11ENtFt9XJcsIHt9CDzi9BR7jjERzivjt/view?usp=drive_link\"\n        ],\n        \"semantic_type\": \"\",\n        \"description\": \"\"\n      }\n    }\n  ]\n}"
            }
          },
          "metadata": {},
          "execution_count": 26
        }
      ]
    },
    {
      "cell_type": "markdown",
      "source": [
        "# Data Preprocessing Rekomendasi Skincare Lokal"
      ],
      "metadata": {
        "id": "nyukGT9HX9Ar"
      }
    },
    {
      "cell_type": "markdown",
      "source": [
        "Konversi link Google Drive yang ada dalam kolom gambar_face_wash, gambar_moisturizer, dan gambar_sunscreen pada DataFrame skincare_df menjadi direct download link. Fungsi convert_drive_link memeriksa apakah link tersebut berasal dari Google Drive, lalu ekstrak file_id untuk membentuk URL dengan format https://drive.google.com/uc?id={file_id} agar file dapat diunduh langsung. Fungsi ini diterapkan pada setiap kolom gambar menggunakan metode apply(), sehingga semua link dalam kolom tersebut diubah menjadi format yang dapat diunduh secara langsung, memudahkan akses ke file gambar."
      ],
      "metadata": {
        "id": "zjNTf9w0TtYs"
      }
    },
    {
      "cell_type": "code",
      "source": [
        "import os\n",
        "import requests\n",
        "\n",
        "# Fungsi untuk mengonversi link Google Drive ke direct link\n",
        "def convert_drive_link(link):\n",
        "    if \"drive.google.com\" in link:\n",
        "        if \"/file/d/\" in link:\n",
        "            file_id = link.split(\"/d/\")[1].split(\"/\")[0]\n",
        "            return f\"https://drive.google.com/uc?id={file_id}\"\n",
        "        elif \"id=\" in link:\n",
        "            file_id = link.split(\"id=\")[1]\n",
        "            return f\"https://drive.google.com/uc?id={file_id}\"\n",
        "    return link\n",
        "\n",
        "# Terapkan konversi pada dataset skincare\n",
        "skincare_df[\"gambar_face_wash\"] = skincare_df[\"gambar_face_wash\"].apply(convert_drive_link)\n",
        "skincare_df[\"gambar_moisturizer\"] = skincare_df[\"gambar_moisturizer\"].apply(convert_drive_link)\n",
        "skincare_df[\"gambar_sunscreen\"] = skincare_df[\"gambar_sunscreen\"].apply(convert_drive_link)\n"
      ],
      "metadata": {
        "id": "IzrS7zE8bDkC"
      },
      "execution_count": null,
      "outputs": []
    },
    {
      "cell_type": "markdown",
      "source": [
        "Mengunduh gambar dari link yang ada di dataset dan menyimpannya dalam folder terpisah berdasarkan kategori produk (Face Wash, Moisturizer, Sunscreen).\n",
        "\n",
        "1. **Membuat Folder**: Fungsi os.makedirs() digunakan untuk membuat tiga folder baru di direktori lokal; images/face_wash, images/moisturizer, dan images/sunscreen. Parameter exist_ok=True memastikan folder tersebut tidak akan dibuat ulang jika sudah ada.\n",
        "\n",
        "2. **Fungsi download_image(url, folder, filename)**: Fungsi ini mengunduh gambar dari URL yang diberikan, menyimpannya dalam folder yang ditentukan dengan nama file yang sesuai. Menggunakan requests.get() untuk mengunduh gambar secara streaming, dan menulisnya ke file lokal dalam bentuk biner (wb). Jika gambar berhasil diunduh (status code 200), maka gambar disimpan dalam folder yang sesuai, jika tidak, fungsi mencetak pesan kesalahan.\n",
        "\n",
        "3. **Proses Pengunduhan**: Untuk setiap kolom gambar (gambar_face_wash, gambar_moisturizer, dan gambar_sunscreen), kode ini mengiterasi baris dataset menggunakan iterrows(). Setiap gambar diunduh dengan memanggil fungsi download_image, dan nama file disesuaikan berdasarkan indeks baris, seperti face_wash_1.jpg, moisturizer_1.jpg, dan seterusnya, tergantung pada produk yang diunduh.\n",
        "\n",
        "Kode akan mengunduh gambar produk skincare dari URL yang ada dalam dataset dan menyimpannya dalam folder yang terorganisir sesuai kategori produk."
      ],
      "metadata": {
        "id": "fc6IpyhdU8O8"
      }
    },
    {
      "cell_type": "code",
      "source": [
        "# Folder untuk menyimpan gambar\n",
        "os.makedirs(\"images/face_wash\", exist_ok=True)\n",
        "os.makedirs(\"images/moisturizer\", exist_ok=True)\n",
        "os.makedirs(\"images/sunscreen\", exist_ok=True)\n",
        "\n",
        "# Fungsi untuk mendownload gambar\n",
        "def download_image(url, folder, filename):\n",
        "    try:\n",
        "        response = requests.get(url, stream=True)\n",
        "        if response.status_code == 200:\n",
        "            filepath = os.path.join(folder, filename)\n",
        "            with open(filepath, \"wb\") as file:\n",
        "                for chunk in response.iter_content(1024):\n",
        "                    file.write(chunk)\n",
        "            print(f\"Downloaded: {filename}\")\n",
        "        else:\n",
        "            print(f\"Failed to download: {url}\")\n",
        "    except Exception as e:\n",
        "        print(f\"Error downloading {url}: {e}\")\n",
        "\n",
        "# Download gambar Face Wash\n",
        "for idx, row in skincare_df.iterrows():\n",
        "    filename = f\"face_wash_{idx+1}.jpg\"\n",
        "    download_image(row[\"gambar_face_wash\"], \"images/face_wash\", filename)\n",
        "\n",
        "# Download gambar Moisturizer\n",
        "for idx, row in skincare_df.iterrows():\n",
        "    filename = f\"moisturizer_{idx+1}.jpg\"\n",
        "    download_image(row[\"gambar_moisturizer\"], \"images/moisturizer\", filename)\n",
        "\n",
        "# Download gambar Sunscreen\n",
        "for idx, row in skincare_df.iterrows():\n",
        "    filename = f\"sunscreen_{idx+1}.jpg\"\n",
        "    download_image(row[\"gambar_sunscreen\"], \"images/sunscreen\", filename)\n"
      ],
      "metadata": {
        "id": "ko_NHe0MbFCS",
        "colab": {
          "base_uri": "https://localhost:8080/"
        },
        "outputId": "0fa67066-99f8-4427-df4a-b18d846c0041"
      },
      "execution_count": null,
      "outputs": [
        {
          "output_type": "stream",
          "name": "stdout",
          "text": [
            "Downloaded: face_wash_1.jpg\n",
            "Downloaded: face_wash_2.jpg\n",
            "Downloaded: face_wash_3.jpg\n",
            "Downloaded: face_wash_4.jpg\n",
            "Downloaded: face_wash_5.jpg\n",
            "Downloaded: face_wash_6.jpg\n",
            "Downloaded: face_wash_7.jpg\n",
            "Downloaded: face_wash_8.jpg\n",
            "Downloaded: face_wash_9.jpg\n",
            "Downloaded: moisturizer_1.jpg\n",
            "Downloaded: moisturizer_2.jpg\n",
            "Downloaded: moisturizer_3.jpg\n",
            "Downloaded: moisturizer_4.jpg\n",
            "Downloaded: moisturizer_5.jpg\n",
            "Downloaded: moisturizer_6.jpg\n",
            "Downloaded: moisturizer_7.jpg\n",
            "Downloaded: moisturizer_8.jpg\n",
            "Downloaded: moisturizer_9.jpg\n",
            "Downloaded: sunscreen_1.jpg\n",
            "Downloaded: sunscreen_2.jpg\n",
            "Downloaded: sunscreen_3.jpg\n",
            "Downloaded: sunscreen_4.jpg\n",
            "Downloaded: sunscreen_5.jpg\n",
            "Downloaded: sunscreen_6.jpg\n",
            "Downloaded: sunscreen_7.jpg\n",
            "Downloaded: sunscreen_8.jpg\n",
            "Downloaded: sunscreen_9.jpg\n"
          ]
        }
      ]
    },
    {
      "cell_type": "markdown",
      "source": [
        "Fungsi preprocess_user_image digunakan untuk mempersiapkan gambar yang diunggah oleh pengguna agar dapat digunakan dalam model machine learning. Gambar dibuka dan diubah menjadi format RGB, lalu ukurannya disesuaikan dengan ukuran target (128, 128) piksel. Selanjutnya, gambar dikonversi menjadi array numpy agar bisa diproses lebih lanjut. Gambar yang berwarna diubah menjadi grayscale (hitam putih) untuk mengurangi kompleksitas data. Nilai piksel juga dinormalisasi dengan membaginya dengan 255 agar berada dalam rentang 0 hingga 1. Terakhir, gambar diubah bentuknya menjadi (1, 128, 128, 1), yang sesuai dengan format input yang dibutuhkan oleh model CNN, dengan satu gambar berukuran 128x128 piksel dan satu saluran (grayscale)."
      ],
      "metadata": {
        "id": "Jnr9RzfmWAZw"
      }
    },
    {
      "cell_type": "code",
      "source": [
        "def preprocess_user_image(image_file, target_size=(128, 128)):\n",
        "    img = PILImage.open(image_file).convert('RGB')\n",
        "    img = img.resize(target_size)\n",
        "    img = np.array(img)\n",
        "    img = cv2.cvtColor(img, cv2.COLOR_RGB2GRAY)\n",
        "    img = img / 255.0\n",
        "    img = img.reshape(1, target_size[0], target_size[1], 1)\n",
        "    return img"
      ],
      "metadata": {
        "id": "r-nl51zCDOQE"
      },
      "execution_count": null,
      "outputs": []
    },
    {
      "cell_type": "markdown",
      "source": [
        "# Output Rekomendasi Skincare Lokal Berdasarkan Jenis Kulit Wajah"
      ],
      "metadata": {
        "id": "GUT4IkoBadya"
      }
    },
    {
      "cell_type": "markdown",
      "source": [
        "Fungsi recommend_products digunakan untuk memberikan rekomendasi produk skincare berdasarkan jenis kulit yang dimasukkan oleh pengguna. Alur kerja:\n",
        "\n",
        "1. **Mencari Rekomendasi Produk**: Fungsi ini menerima parameter skin_type (jenis kulit) dan mencari produk yang sesuai di DataFrame skincare_df. Metode .str.contains() digunakan pada kolom jenis_kulit untuk mencari kecocokan antara jenis kulit yang diberikan dengan nilai di kolom tersebut. Pencarian tidak memperhatikan huruf kapital (case=False) dan mengabaikan nilai NaN (na=False).\n",
        "\n",
        "2. **Menangani Tidak Ada Rekomendasi**: Jika tidak ada produk yang cocok (yaitu, recommendations.empty), fungsi akan mencetak pesan \"Produk tidak ditemukan untuk jenis kulit ini.\"\n",
        "\n",
        "3. **Menampilkan Rekomendasi**: Jika ada produk yang cocok, fungsi akan menampilkan informasi mengenai produk-produk yang sesuai, yaitu Face Wash, Moisturizer, dan Sunscreen. Untuk setiap produk, fungsi mencetak nama produk (misalnya, row[face_wash] untuk Face Wash), dan menampilkan gambar produk yang diunduh sebelumnya menggunakan display(Image(...)), yang menunjukkan gambar lokal dari folder yang sesuai (Face Wash, Moisturizer, Sunscreen) berdasarkan indeks baris (idx+1).\n",
        "\n",
        "Fungsi ini memberikan rekomendasi produk skincare yang sesuai dengan jenis kulit pengguna disertai dengan gambar produk."
      ],
      "metadata": {
        "id": "_IX7bx4YZXe3"
      }
    },
    {
      "cell_type": "code",
      "source": [
        "def recommend_products(skin_type):\n",
        "    recommendations = skincare_df[skincare_df[\"jenis_kulit\"].str.contains(skin_type, na=False, case=False)]\n",
        "    if recommendations.empty:\n",
        "        print(\"Produk tidak ditemukan untuk jenis kulit ini.\")\n",
        "    else:\n",
        "        for idx, row in recommendations.iterrows():\n",
        "            print(f\"\\nFace Wash: {row['face_wash']}\")\n",
        "            display(Image(filename=f\"images/face_wash/face_wash_{idx+1}.jpg\"))  # Gambar lokal Face Wash\n",
        "            print(f\"Moisturizer: {row['moisturizer']}\")\n",
        "            display(Image(filename=f\"images/moisturizer/moisturizer_{idx+1}.jpg\"))  # Gambar lokal Moisturizer\n",
        "            print(f\"Sunscreen: {row['sunscreen']}\")\n",
        "            display(Image(filename=f\"images/sunscreen/sunscreen_{idx+1}.jpg\"))  # Gambar lokal Sunscreen\n"
      ],
      "metadata": {
        "id": "l7gmpyVGCK9k"
      },
      "execution_count": null,
      "outputs": []
    },
    {
      "cell_type": "markdown",
      "source": [
        "Fungsi predict_and_recommend digunakan untuk memproses gambar yang diunggah oleh pengguna, memprediksi jenis kulit, dan memberikan rekomendasi produk skincare berdasarkan jenis kulit yang terdeteksi. Berikut Alur kerja:\n",
        "\n",
        "1. **Mencetak Pesan Mulai Prediksi**: Fungsi mencetak pesan \"Memulai prediksi...\" untuk memberi tahu pengguna bahwa proses prediksi sedang berlangsung.\n",
        "\n",
        "2. **Proses Gambar**: Gambar yang diunggah (image_file) diproses dengan memanggil fungsi `preprocess_user_image(image_file)`. Fungsi ini akan mengubah gambar menjadi format yang sesuai untuk model (grayscale, ukuran yang ditentukan, dan dinormalisasi). Jika gambar berhasil diproses, pesan \"Gambar berhasil diproses.\" akan dicetak.\n",
        "\n",
        "3. **Prediksi Jenis Kulit**: Gambar yang telah diproses dimasukkan ke dalam model untuk prediksi jenis kulit dengan model.predict(processed_image). Prediksi yang dihasilkan yaitu sebuah array dengan nilai untuk setiap jenis kulit (dry, normal, oily). Fungsi ini mencetak hasil prediksi raw dari model dalam format urutan [dry, normal, oily].\n",
        "\n",
        "4. **Menentukan Jenis Kulit**: Fungsi menggunakan np.argmax(prediction) untuk menemukan indeks nilai tertinggi dari prediksi. Indeks ini digunakan untuk menentukan jenis kulit yang sesuai dari daftar [\"dry\", \"normal\", \"oily\"], dan jenis kulit yang terdeteksi dicetak di layar.\n",
        "\n",
        "5. **Rekomendasi Produk**: Setelah jenis kulit terdeteksi, fungsi memanggil recommend_products(skin_type) untuk memberikan rekomendasi produk skincare sesuai dengan jenis kulit yang terdeteksi. Fungsi ini akan menampilkan produk Face Wash, Moisturizer, dan Sunscreen yang sesuai.\n",
        "\n",
        "6. **Menangani Error**: Jika terjadi kesalahan pada proses apapun, error akan ditangkap oleh except dan pesan kesalahan akan dicetak.\n",
        "\n",
        "Secara keseluruhan, fungsi memproses gambar yang diunggah, memprediksi jenis kulit, dan memberikan rekomendasi produk skincare yang tepat sesuai hasil prediksi tersebut."
      ],
      "metadata": {
        "id": "sqrv_a1_b6Nm"
      }
    },
    {
      "cell_type": "code",
      "source": [
        "def predict_and_recommend(image_file):\n",
        "    print(\"Memulai prediksi...\")\n",
        "    try:\n",
        "        # Proses gambar\n",
        "        processed_image = preprocess_user_image(image_file)\n",
        "        print(\"Gambar berhasil diproses.\")\n",
        "\n",
        "        # Prediksi jenis kulit\n",
        "        prediction = model.predict(processed_image)\n",
        "        print(f\"Prediksi raw model dengan urutan [dry, normal, oily]: {prediction}\")\n",
        "\n",
        "        # Tentukan jenis kulit\n",
        "        skin_type = [\"dry\", \"normal\", \"oily\"][np.argmax(prediction)]\n",
        "        print(f\"Jenis kulit terdeteksi: {skin_type}\")\n",
        "\n",
        "        # Rekomendasi produk\n",
        "        recommend_products(skin_type)\n",
        "    except Exception as e:\n",
        "        print(f\"Error: {e}\")\n"
      ],
      "metadata": {
        "id": "OoBAGzszCO0u"
      },
      "execution_count": null,
      "outputs": []
    },
    {
      "cell_type": "markdown",
      "source": [
        "Membuat tombol untuk mengunggah satu file gambar dengan ipywidgets."
      ],
      "metadata": {
        "id": "Kw35lPeicsrN"
      }
    },
    {
      "cell_type": "code",
      "source": [
        "upload_button = widgets.FileUpload(accept=\"image/*\", multiple=False)"
      ],
      "metadata": {
        "id": "osxnCxlyCRIy"
      },
      "execution_count": null,
      "outputs": []
    },
    {
      "cell_type": "markdown",
      "source": [
        "Fungsi on_upload_change akan dijalankan ketika pengguna mengunggah file gambar. Setelah file diunggah, fungsi ini akan menghapus tampilan sebelumnya untuk menjaga layar tetap bersih, lalu menampilkan tombol upload lagi. Gambar yang diunggah kemudian diubah menjadi format yang bisa diproses, dan fungsi predict_and_recommend digunakan untuk memprediksi jenis kulit serta memberikan rekomendasi produk yang sesuai."
      ],
      "metadata": {
        "id": "3ISm9ZytdHnY"
      }
    },
    {
      "cell_type": "code",
      "source": [
        "def on_upload_change(change):\n",
        "    uploaded_file = change['new']\n",
        "    if uploaded_file:\n",
        "        # Bersihkan output sebelumnya\n",
        "        clear_output(wait=True)\n",
        "\n",
        "        # Tampilkan widget upload kembali\n",
        "        display(upload_button)\n",
        "\n",
        "        # Proses file yang diunggah\n",
        "        image_file = BytesIO(list(uploaded_file.values())[0]['content'])\n",
        "        predict_and_recommend(image_file)"
      ],
      "metadata": {
        "id": "MSt80QqmCV8i"
      },
      "execution_count": null,
      "outputs": []
    },
    {
      "cell_type": "markdown",
      "source": [
        "Kode ini mengaitkan fungsi on_upload_change dengan tombol upload (upload_button). Setiap kali ada perubahan pada nilai tombol upload, fungsi on_upload_change akan dijalankan. Kemudian, tombol upload ditampilkan dengan display(upload_button)."
      ],
      "metadata": {
        "id": "Z75x_jExde0L"
      }
    },
    {
      "cell_type": "code",
      "source": [
        "upload_button.observe(on_upload_change, names='value')\n",
        "display(upload_button)"
      ],
      "metadata": {
        "id": "CJ3W9-byCX80",
        "colab": {
          "base_uri": "https://localhost:8080/",
          "height": 1000,
          "referenced_widgets": [
            "99e2ad56137f4bd3972888bc5f1552de",
            "f0f96093f2284d068a56c40e7505c791",
            "578c93c6ef3d4f3f822e0be6bab8cd78"
          ]
        },
        "outputId": "00c00294-59e9-4093-ac7c-99230e2ec8ea"
      },
      "execution_count": null,
      "outputs": [
        {
          "output_type": "display_data",
          "data": {
            "text/plain": [
              "FileUpload(value={'beautiful-headshot.jpg': {'metadata': {'name': 'beautiful-headshot.jpg', 'type': 'image/jpe…"
            ],
            "application/vnd.jupyter.widget-view+json": {
              "version_major": 2,
              "version_minor": 0,
              "model_id": "99e2ad56137f4bd3972888bc5f1552de"
            }
          },
          "metadata": {}
        },
        {
          "output_type": "stream",
          "name": "stdout",
          "text": [
            "Memulai prediksi...\n",
            "Gambar berhasil diproses.\n",
            "1/1 [==============================] - 0s 108ms/step\n",
            "Prediksi raw model dengan urutan [dry, normal, oily]: [[0.2763952  0.37060776 0.35299706]]\n",
            "Jenis kulit terdeteksi: normal\n",
            "\n",
            "Face Wash: 1. Emina Double Bubble Face Wash\n"
          ]
        },
        {
          "output_type": "display_data",
          "data": {
            "image/jpeg": "[encoded data removed]",
            "text/plain": [
              "<IPython.core.display.Image object>"
            ]
          },
          "metadata": {}
        },
        {
          "output_type": "stream",
          "name": "stdout",
          "text": [
            "Moisturizer: 1. Y.O.U Radiance Up! Deep Moisturizing Cream\n"
          ]
        },
        {
          "output_type": "display_data",
          "data": {
            "image/jpeg": "[encoded data removed]",
            "text/plain": [
              "<IPython.core.display.Image object>"
            ]
          },
          "metadata": {}
        },
        {
          "output_type": "stream",
          "name": "stdout",
          "text": [
            "Sunscreen: 1. Azarine Hydrasoothe Sunscreen Gel SPF 45 PA++++\n"
          ]
        },
        {
          "output_type": "display_data",
          "data": {
            "image/jpeg": "[encoded data removed]",
            "text/plain": [
              "<IPython.core.display.Image object>"
            ]
          },
          "metadata": {}
        },
        {
          "output_type": "stream",
          "name": "stdout",
          "text": [
            "\n",
            "Face Wash: 2. Wardah Lightening Gentle Wash\n"
          ]
        },
        {
          "output_type": "display_data",
          "data": {
            "image/jpeg": "[encoded data removed]",
            "text/plain": [
              "<IPython.core.display.Image object>"
            ]
          },
          "metadata": {}
        },
        {
          "output_type": "stream",
          "name": "stdout",
          "text": [
            "Moisturizer: 2. Wardah Hydra Rose Dewy Aqua Day Gel \n"
          ]
        },
        {
          "output_type": "display_data",
          "data": {
            "image/jpeg": "[encoded data removed]",
            "text/plain": [
              "<IPython.core.display.Image object>"
            ]
          },
          "metadata": {}
        },
        {
          "output_type": "stream",
          "name": "stdout",
          "text": [
            "Sunscreen: 2. Avoskin The Great Shield SPF 50 PA++++\n"
          ]
        },
        {
          "output_type": "display_data",
          "data": {
            "image/jpeg": "[encoded data removed]",
            "text/plain": [
              "<IPython.core.display.Image object>"
            ]
          },
          "metadata": {}
        },
        {
          "output_type": "stream",
          "name": "stdout",
          "text": [
            "\n",
            "Face Wash: 3. Sensatia Botanicals Tea Tree & Lemon Facial Cleanser\n"
          ]
        },
        {
          "output_type": "display_data",
          "data": {
            "image/jpeg": "[encoded data removed]",
            "text/plain": [
              "<IPython.core.display.Image object>"
            ]
          },
          "metadata": {}
        },
        {
          "output_type": "stream",
          "name": "stdout",
          "text": [
            "Moisturizer: 3. Somethinc Ceramic Skin Saviour \n"
          ]
        },
        {
          "output_type": "display_data",
          "data": {
            "image/jpeg": "[encoded data removed]",
            "text/plain": [
              "<IPython.core.display.Image object>"
            ]
          },
          "metadata": {}
        },
        {
          "output_type": "stream",
          "name": "stdout",
          "text": [
            "Sunscreen: 3. Y.O.U Triple UV Elixir SPF 50+ PA++++\n"
          ]
        },
        {
          "output_type": "display_data",
          "data": {
            "image/jpeg": "[encoded data removed]",
            "text/plain": [
              "<IPython.core.display.Image object>"
            ]
          },
          "metadata": {}
        }
      ]
    }
  ],
  "metadata": {
    "colab": {
      "provenance": [],
      "gpuType": "V28"
    },
    "kernelspec": {
      "display_name": "Python 3",
      "name": "python3"
    },
    "language_info": {
      "name": "python"
    },
    "accelerator": "TPU",
    "widgets": {
      "application/vnd.jupyter.widget-state+json": {
        "99e2ad56137f4bd3972888bc5f1552de": {
          "model_module": "@jupyter-widgets/controls",
          "model_name": "FileUploadModel",
          "model_module_version": "1.5.0",
          "state": {
            "_counter": 1,
            "_dom_classes": [],
            "_model_module": "@jupyter-widgets/controls",
            "_model_module_version": "1.5.0",
            "_model_name": "FileUploadModel",
            "_view_count": null,
            "_view_module": "@jupyter-widgets/controls",
            "_view_module_version": "1.5.0",
            "_view_name": "FileUploadView",
            "accept": "image/*",
            "button_style": "",
            "data": [
              null
            ],
            "description": "Upload",
            "description_tooltip": null,
            "disabled": false,
            "error": "",
            "icon": "upload",
            "layout": "IPY_MODEL_f0f96093f2284d068a56c40e7505c791",
            "metadata": [
              {
                "name": "beautiful-headshot.jpg",
                "type": "image/jpeg",
                "size": 258551,
                "lastModified": 1736253451091
              }
            ],
            "multiple": false,
            "style": "IPY_MODEL_578c93c6ef3d4f3f822e0be6bab8cd78"
          }
        },
        "f0f96093f2284d068a56c40e7505c791": {
          "model_module": "@jupyter-widgets/base",
          "model_name": "LayoutModel",
          "model_module_version": "1.2.0",
          "state": {
            "_model_module": "@jupyter-widgets/base",
            "_model_module_version": "1.2.0",
            "_model_name": "LayoutModel",
            "_view_count": null,
            "_view_module": "@jupyter-widgets/base",
            "_view_module_version": "1.2.0",
            "_view_name": "LayoutView",
            "align_content": null,
            "align_items": null,
            "align_self": null,
            "border": null,
            "bottom": null,
            "display": null,
            "flex": null,
            "flex_flow": null,
            "grid_area": null,
            "grid_auto_columns": null,
            "grid_auto_flow": null,
            "grid_auto_rows": null,
            "grid_column": null,
            "grid_gap": null,
            "grid_row": null,
            "grid_template_areas": null,
            "grid_template_columns": null,
            "grid_template_rows": null,
            "height": null,
            "justify_content": null,
            "justify_items": null,
            "left": null,
            "margin": null,
            "max_height": null,
            "max_width": null,
            "min_height": null,
            "min_width": null,
            "object_fit": null,
            "object_position": null,
            "order": null,
            "overflow": null,
            "overflow_x": null,
            "overflow_y": null,
            "padding": null,
            "right": null,
            "top": null,
            "visibility": null,
            "width": null
          }
        },
        "578c93c6ef3d4f3f822e0be6bab8cd78": {
          "model_module": "@jupyter-widgets/controls",
          "model_name": "ButtonStyleModel",
          "model_module_version": "1.5.0",
          "state": {
            "_model_module": "@jupyter-widgets/controls",
            "_model_module_version": "1.5.0",
            "_model_name": "ButtonStyleModel",
            "_view_count": null,
            "_view_module": "@jupyter-widgets/base",
            "_view_module_version": "1.2.0",
            "_view_name": "StyleView",
            "button_color": null,
            "font_weight": ""
          }
        }
      }
    }
  },
  "nbformat": 4,
  "nbformat_minor": 0
}